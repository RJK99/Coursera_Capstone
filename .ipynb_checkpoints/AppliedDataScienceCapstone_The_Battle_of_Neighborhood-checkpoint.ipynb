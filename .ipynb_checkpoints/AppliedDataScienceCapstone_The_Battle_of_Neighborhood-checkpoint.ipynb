{
 "cells": [
  {
   "cell_type": "markdown",
   "metadata": {},
   "source": [
    "# Applied Data Science Capstone - The Battle of Neighborhoods"
   ]
  },
  {
   "cell_type": "markdown",
   "metadata": {},
   "source": [
    "## 1. Introduction of this project - A data journey to London"
   ]
  },
  {
   "cell_type": "markdown",
   "metadata": {},
   "source": [
    "The other day I received an email from a friend of mine in Japan and he told me he has received an attractive offer from a company in London. He is now planning to relocate with his wife and a 4-year-old boy.\n",
    "However, he has no experience of living abroad and do not have a clue where to start with finding a right information of the neighborhood there. \n",
    "So I have decided to help him with my newly acquired skill of data analysis from the data science course at Coursera."
   ]
  },
  {
   "cell_type": "markdown",
   "metadata": {},
   "source": [
    "### Goal of the project: To find suitable accommodation areas inside/around London for a family with a small kid."
   ]
  },
  {
   "cell_type": "markdown",
   "metadata": {},
   "source": [
    "## 2. Data"
   ]
  },
  {
   "cell_type": "markdown",
   "metadata": {},
   "source": [
    "I first decided to check the crime rate as it is usually the most importatant condition for a family with small children. I also know that they love Asian cuisine and they cannot live without it. So this needs to be taken into account as well."
   ]
  },
  {
   "cell_type": "markdown",
   "metadata": {},
   "source": [
    "### Target: Find an area(s) with 1) Low Criminal Rate and 2) Good access to Asian cuisine  (Extra - (if possible) good access to Metro station(s) )"
   ]
  },
  {
   "cell_type": "markdown",
   "metadata": {},
   "source": [
    "### Data source"
   ]
  },
  {
   "cell_type": "markdown",
   "metadata": {},
   "source": [
    "#### 1) Criminal Record in London - https://data.london.gov.uk/dataset/recorded_crime_summary (MPS Borough Level Crime in csv format)\n",
    "#### 2) Geographical coordinate fo Boroughs and Wards in London - https://data.london.gov.uk/dataset/excel-mapping-template-for-london-boroughs-and-wards\n",
    "#### 3) Neighborhood Venues - with Foursquare API.\n",
    "#### (4) Location of Metro Stations in London - https://www.doogal.co.uk/london_stations.php (Name of the station, Geographical coordinate(longitute, latititude))"
   ]
  },
  {
   "cell_type": "markdown",
   "metadata": {},
   "source": [
    "1) Criminal Record in London includes the category of crime, Borough Name and the number of crimes for each month from June.2018 till May, 2020. \n",
    "\n",
    "2) Geographical coordinate of Boroughs and Wards in London recquires cleaning as they are not in one file."
   ]
  },
  {
   "cell_type": "markdown",
   "metadata": {},
   "source": [
    "## 3. Data Analysis"
   ]
  },
  {
   "cell_type": "markdown",
   "metadata": {},
   "source": [
    "Importing libraries"
   ]
  },
  {
   "cell_type": "code",
   "execution_count": 2,
   "metadata": {},
   "outputs": [],
   "source": [
    "import numpy as np \n",
    "import pandas as pd\n",
    "\n",
    "import json\n",
    "\n",
    "from geopy.geocoders import Nominatim # convert an address into latitude and longitude values\n",
    "\n",
    "import requests # library to handle requests\n",
    "from pandas.io.json import json_normalize # tranform JSON file into a pandas dataframe\n",
    "\n",
    "import matplotlib.cm as cm\n",
    "import matplotlib.colors as colors\n",
    "\n",
    "from sklearn.cluster import KMeans\n",
    "\n",
    "import folium # map rendering library\n"
   ]
  },
  {
   "cell_type": "code",
   "execution_count": 7,
   "metadata": {},
   "outputs": [
    {
     "data": {
      "text/html": [
       "<div>\n",
       "<style scoped>\n",
       "    .dataframe tbody tr th:only-of-type {\n",
       "        vertical-align: middle;\n",
       "    }\n",
       "\n",
       "    .dataframe tbody tr th {\n",
       "        vertical-align: top;\n",
       "    }\n",
       "\n",
       "    .dataframe thead th {\n",
       "        text-align: right;\n",
       "    }\n",
       "</style>\n",
       "<table border=\"1\" class=\"dataframe\">\n",
       "  <thead>\n",
       "    <tr style=\"text-align: right;\">\n",
       "      <th></th>\n",
       "      <th>MajorText</th>\n",
       "      <th>MinorText</th>\n",
       "      <th>LookUp_BoroughName</th>\n",
       "      <th>201806</th>\n",
       "      <th>201807</th>\n",
       "      <th>201808</th>\n",
       "      <th>201809</th>\n",
       "      <th>201810</th>\n",
       "      <th>201811</th>\n",
       "      <th>201812</th>\n",
       "      <th>...</th>\n",
       "      <th>201908</th>\n",
       "      <th>201909</th>\n",
       "      <th>201910</th>\n",
       "      <th>201911</th>\n",
       "      <th>201912</th>\n",
       "      <th>202001</th>\n",
       "      <th>202002</th>\n",
       "      <th>202003</th>\n",
       "      <th>202004</th>\n",
       "      <th>202005</th>\n",
       "    </tr>\n",
       "  </thead>\n",
       "  <tbody>\n",
       "    <tr>\n",
       "      <th>0</th>\n",
       "      <td>Arson and Criminal Damage</td>\n",
       "      <td>Arson</td>\n",
       "      <td>Barking and Dagenham</td>\n",
       "      <td>12</td>\n",
       "      <td>6</td>\n",
       "      <td>5</td>\n",
       "      <td>3</td>\n",
       "      <td>8</td>\n",
       "      <td>5</td>\n",
       "      <td>1</td>\n",
       "      <td>...</td>\n",
       "      <td>3</td>\n",
       "      <td>6</td>\n",
       "      <td>9</td>\n",
       "      <td>8</td>\n",
       "      <td>6</td>\n",
       "      <td>4</td>\n",
       "      <td>5</td>\n",
       "      <td>6</td>\n",
       "      <td>2</td>\n",
       "      <td>2</td>\n",
       "    </tr>\n",
       "    <tr>\n",
       "      <th>1</th>\n",
       "      <td>Arson and Criminal Damage</td>\n",
       "      <td>Criminal Damage</td>\n",
       "      <td>Barking and Dagenham</td>\n",
       "      <td>123</td>\n",
       "      <td>127</td>\n",
       "      <td>101</td>\n",
       "      <td>107</td>\n",
       "      <td>132</td>\n",
       "      <td>105</td>\n",
       "      <td>88</td>\n",
       "      <td>...</td>\n",
       "      <td>118</td>\n",
       "      <td>109</td>\n",
       "      <td>109</td>\n",
       "      <td>97</td>\n",
       "      <td>121</td>\n",
       "      <td>97</td>\n",
       "      <td>103</td>\n",
       "      <td>107</td>\n",
       "      <td>80</td>\n",
       "      <td>88</td>\n",
       "    </tr>\n",
       "    <tr>\n",
       "      <th>2</th>\n",
       "      <td>Burglary</td>\n",
       "      <td>Burglary - Business and Community</td>\n",
       "      <td>Barking and Dagenham</td>\n",
       "      <td>33</td>\n",
       "      <td>30</td>\n",
       "      <td>18</td>\n",
       "      <td>33</td>\n",
       "      <td>32</td>\n",
       "      <td>39</td>\n",
       "      <td>33</td>\n",
       "      <td>...</td>\n",
       "      <td>35</td>\n",
       "      <td>37</td>\n",
       "      <td>30</td>\n",
       "      <td>30</td>\n",
       "      <td>25</td>\n",
       "      <td>31</td>\n",
       "      <td>17</td>\n",
       "      <td>28</td>\n",
       "      <td>29</td>\n",
       "      <td>16</td>\n",
       "    </tr>\n",
       "    <tr>\n",
       "      <th>3</th>\n",
       "      <td>Burglary</td>\n",
       "      <td>Burglary - Residential</td>\n",
       "      <td>Barking and Dagenham</td>\n",
       "      <td>77</td>\n",
       "      <td>94</td>\n",
       "      <td>84</td>\n",
       "      <td>99</td>\n",
       "      <td>94</td>\n",
       "      <td>106</td>\n",
       "      <td>164</td>\n",
       "      <td>...</td>\n",
       "      <td>67</td>\n",
       "      <td>80</td>\n",
       "      <td>97</td>\n",
       "      <td>114</td>\n",
       "      <td>130</td>\n",
       "      <td>116</td>\n",
       "      <td>123</td>\n",
       "      <td>97</td>\n",
       "      <td>57</td>\n",
       "      <td>41</td>\n",
       "    </tr>\n",
       "    <tr>\n",
       "      <th>4</th>\n",
       "      <td>Drug Offences</td>\n",
       "      <td>Drug Trafficking</td>\n",
       "      <td>Barking and Dagenham</td>\n",
       "      <td>6</td>\n",
       "      <td>8</td>\n",
       "      <td>7</td>\n",
       "      <td>10</td>\n",
       "      <td>7</td>\n",
       "      <td>7</td>\n",
       "      <td>4</td>\n",
       "      <td>...</td>\n",
       "      <td>7</td>\n",
       "      <td>7</td>\n",
       "      <td>10</td>\n",
       "      <td>12</td>\n",
       "      <td>3</td>\n",
       "      <td>13</td>\n",
       "      <td>4</td>\n",
       "      <td>6</td>\n",
       "      <td>11</td>\n",
       "      <td>11</td>\n",
       "    </tr>\n",
       "  </tbody>\n",
       "</table>\n",
       "<p>5 rows × 27 columns</p>\n",
       "</div>"
      ],
      "text/plain": [
       "                   MajorText                          MinorText  \\\n",
       "0  Arson and Criminal Damage                              Arson   \n",
       "1  Arson and Criminal Damage                    Criminal Damage   \n",
       "2                   Burglary  Burglary - Business and Community   \n",
       "3                   Burglary             Burglary - Residential   \n",
       "4              Drug Offences                   Drug Trafficking   \n",
       "\n",
       "     LookUp_BoroughName  201806  201807  201808  201809  201810  201811  \\\n",
       "0  Barking and Dagenham      12       6       5       3       8       5   \n",
       "1  Barking and Dagenham     123     127     101     107     132     105   \n",
       "2  Barking and Dagenham      33      30      18      33      32      39   \n",
       "3  Barking and Dagenham      77      94      84      99      94     106   \n",
       "4  Barking and Dagenham       6       8       7      10       7       7   \n",
       "\n",
       "   201812  ...  201908  201909  201910  201911  201912  202001  202002  \\\n",
       "0       1  ...       3       6       9       8       6       4       5   \n",
       "1      88  ...     118     109     109      97     121      97     103   \n",
       "2      33  ...      35      37      30      30      25      31      17   \n",
       "3     164  ...      67      80      97     114     130     116     123   \n",
       "4       4  ...       7       7      10      12       3      13       4   \n",
       "\n",
       "   202003  202004  202005  \n",
       "0       6       2       2  \n",
       "1     107      80      88  \n",
       "2      28      29      16  \n",
       "3      97      57      41  \n",
       "4       6      11      11  \n",
       "\n",
       "[5 rows x 27 columns]"
      ]
     },
     "execution_count": 7,
     "metadata": {},
     "output_type": "execute_result"
    }
   ],
   "source": [
    "df_london_boroughs = pd.read_csv('MPS Borough Level Crime (most recent 24 months).csv')\n",
    "df_london_boroughs.head()"
   ]
  },
  {
   "cell_type": "code",
   "execution_count": 12,
   "metadata": {},
   "outputs": [
    {
     "data": {
      "text/plain": [
       "(1566, 27)"
      ]
     },
     "execution_count": 12,
     "metadata": {},
     "output_type": "execute_result"
    }
   ],
   "source": [
    "df_london_boroughs.shape"
   ]
  },
  {
   "cell_type": "markdown",
   "metadata": {},
   "source": [
    "Let's see what type of crimes are categorized."
   ]
  },
  {
   "cell_type": "code",
   "execution_count": 11,
   "metadata": {},
   "outputs": [
    {
     "name": "stdout",
     "output_type": "stream",
     "text": [
      "['Arson' 'Criminal Damage' 'Burglary - Business and Community'\n",
      " 'Burglary - Residential' 'Drug Trafficking' 'Possession of Drugs'\n",
      " 'Bail Offences' 'Bigamy' 'Dangerous Driving'\n",
      " 'Disclosure, Obstruction, False or Misleading State'\n",
      " 'Exploitation of Prostitution'\n",
      " 'Fraud or Forgery Associated with Driver Records'\n",
      " 'Going Equipped for Stealing' 'Handling Stolen Goods'\n",
      " 'Making, Supplying or Possessing Articles for use i'\n",
      " 'Obscene Publications' 'Other Forgery' 'Other Notifiable Offences'\n",
      " 'Perjury' 'Perverting Course of Justice' 'Possession of False Documents'\n",
      " 'Profitting From or Concealing Proceeds of Crime'\n",
      " 'Threat or Possession With Intent to Commit Crimina' 'Wildlife Crime'\n",
      " 'Other Firearm Offences' 'Possession of Article with Blade or Point'\n",
      " 'Possession of Firearm with Intent' 'Possession of Firearms Offences'\n",
      " 'Possession of Other Weapon'\n",
      " 'Other Offences Against the State, or Public Order'\n",
      " 'Public Fear Alarm or Distress'\n",
      " 'Racially or Religiously Aggravated Public Fear, Al' 'Violent Disorder'\n",
      " 'Robbery of Business Property' 'Robbery of Personal Property'\n",
      " 'Other Sexual Offences' 'Rape' 'Bicycle Theft' 'Other Theft'\n",
      " 'Shoplifting' 'Theft from Person' 'Aggravated Vehicle Taking'\n",
      " 'Interfering with a Motor Vehicle' 'Theft from a Motor Vehicle'\n",
      " 'Theft or Taking of a Motor Vehicle' 'Homicide' 'Violence with Injury'\n",
      " 'Violence without Injury' 'Absconding from Lawful Custody'\n",
      " 'Forgery or Use of Drug Prescription' 'Soliciting for Prostitution'\n",
      " 'Offender Management Act' 'Concealing an Infant Death Close to Birth']\n"
     ]
    }
   ],
   "source": [
    "print(df_london_boroughs['MinorText'].unique())"
   ]
  },
  {
   "cell_type": "code",
   "execution_count": null,
   "metadata": {},
   "outputs": [],
   "source": []
  },
  {
   "cell_type": "code",
   "execution_count": null,
   "metadata": {},
   "outputs": [],
   "source": []
  },
  {
   "cell_type": "code",
   "execution_count": null,
   "metadata": {},
   "outputs": [],
   "source": []
  },
  {
   "cell_type": "code",
   "execution_count": null,
   "metadata": {},
   "outputs": [],
   "source": []
  },
  {
   "cell_type": "code",
   "execution_count": null,
   "metadata": {},
   "outputs": [],
   "source": []
  },
  {
   "cell_type": "code",
   "execution_count": null,
   "metadata": {},
   "outputs": [],
   "source": []
  },
  {
   "cell_type": "code",
   "execution_count": null,
   "metadata": {},
   "outputs": [],
   "source": []
  },
  {
   "cell_type": "code",
   "execution_count": null,
   "metadata": {},
   "outputs": [],
   "source": []
  },
  {
   "cell_type": "code",
   "execution_count": null,
   "metadata": {},
   "outputs": [],
   "source": []
  },
  {
   "cell_type": "code",
   "execution_count": null,
   "metadata": {},
   "outputs": [],
   "source": []
  },
  {
   "cell_type": "code",
   "execution_count": null,
   "metadata": {},
   "outputs": [],
   "source": []
  },
  {
   "cell_type": "code",
   "execution_count": null,
   "metadata": {},
   "outputs": [],
   "source": []
  },
  {
   "cell_type": "code",
   "execution_count": null,
   "metadata": {},
   "outputs": [],
   "source": []
  }
 ],
 "metadata": {
  "kernelspec": {
   "display_name": "Python 3",
   "language": "python",
   "name": "python3"
  },
  "language_info": {
   "codemirror_mode": {
    "name": "ipython",
    "version": 3
   },
   "file_extension": ".py",
   "mimetype": "text/x-python",
   "name": "python",
   "nbconvert_exporter": "python",
   "pygments_lexer": "ipython3",
   "version": "3.7.6"
  }
 },
 "nbformat": 4,
 "nbformat_minor": 2
}
