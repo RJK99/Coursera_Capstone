{
 "cells": [
  {
   "cell_type": "markdown",
   "metadata": {},
   "source": [
    "# Applied Data Science Capstone : The Battle of Neighborhoods"
   ]
  },
  {
   "cell_type": "markdown",
   "metadata": {},
   "source": [
    "## 1. Introduction of this project"
   ]
  },
  {
   "cell_type": "markdown",
   "metadata": {},
   "source": [
    "The other day I received an email from a friend of mine in Japan and he told me he has received an attractive offer from a company in London. He is now planning to relocate with his wife and a 4-year-old boy.\n",
    "However, he has no experience of living abroad and do not have a clue where to start with finding a right information of the neighborhood there. \n",
    "So I have decided to help him with my newly acquired skill of data analysis from the data science course at Coursera."
   ]
  },
  {
   "cell_type": "markdown",
   "metadata": {},
   "source": [
    "### Goal of the project: To find suitable accommodation areas inside/around London for a family with a small kid."
   ]
  },
  {
   "cell_type": "markdown",
   "metadata": {},
   "source": [
    "## 2. Data"
   ]
  },
  {
   "cell_type": "markdown",
   "metadata": {},
   "source": [
    "I first decided to check the crime rate as it is usually the most importatant condition for a family with small children. I also know that they love Asian cuisine and they cannot live without it. So this needs to be taken into account as well."
   ]
  },
  {
   "cell_type": "markdown",
   "metadata": {},
   "source": [
    "### Target: Find an area(s) with 1) Low Criminal Rate and 2) Good access to Asian cuisine  (Extra - (if possible) good access to Metro station(s) )"
   ]
  },
  {
   "cell_type": "markdown",
   "metadata": {},
   "source": [
    "### Data source"
   ]
  },
  {
   "cell_type": "markdown",
   "metadata": {},
   "source": [
    "#### 1) Criminal Record in London - https://data.london.gov.uk/dataset/recorded_crime_summary (MPS Borough Level Crime in csv format)\n",
    "#### 2) Geographical coordinate fo Boroughs and Wards in London - https://data.london.gov.uk/dataset/excel-mapping-template-for-london-boroughs-and-wards\n",
    "#### 3) Neighborhood Venues - with Foursquare API.\n",
    "#### (4) Location of Metro Stations in London - https://www.doogal.co.uk/london_stations.php (Name of the station, Geographical coordinate(longitute, latititude))"
   ]
  },
  {
   "cell_type": "markdown",
   "metadata": {},
   "source": [
    "1) Criminal Record in London includes the category of crime, Borough Name and the number of crimes for each month from June.2018 till May, 2020. \n",
    "\n",
    "2) Geographical coordinate of Boroughs and Wards in London recquires cleaning as they are not in one file."
   ]
  },
  {
   "cell_type": "code",
   "execution_count": null,
   "metadata": {},
   "outputs": [],
   "source": []
  }
 ],
 "metadata": {
  "kernelspec": {
   "display_name": "Python 3",
   "language": "python",
   "name": "python3"
  },
  "language_info": {
   "codemirror_mode": {
    "name": "ipython",
    "version": 3
   },
   "file_extension": ".py",
   "mimetype": "text/x-python",
   "name": "python",
   "nbconvert_exporter": "python",
   "pygments_lexer": "ipython3",
   "version": "3.7.6"
  }
 },
 "nbformat": 4,
 "nbformat_minor": 2
}
